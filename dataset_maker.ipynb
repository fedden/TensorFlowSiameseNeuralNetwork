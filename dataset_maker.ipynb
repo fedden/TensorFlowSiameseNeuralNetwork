{
 "cells": [
  {
   "cell_type": "code",
   "execution_count": 2,
   "metadata": {
    "collapsed": true
   },
   "outputs": [],
   "source": [
    "import os\n",
    "import shutil\n",
    "import skvideo.io\n",
    "from skimage.io import imsave\n",
    "from skimage.transform import resize"
   ]
  },
  {
   "cell_type": "code",
   "execution_count": 3,
   "metadata": {
    "collapsed": true
   },
   "outputs": [],
   "source": [
    "video_folders_path = '../../sign_videos/'\n",
    "output_dataset_path = 'sign_dataset'\n",
    "width = 48\n",
    "height = 48"
   ]
  },
  {
   "cell_type": "code",
   "execution_count": 5,
   "metadata": {},
   "outputs": [
    {
     "name": "stderr",
     "output_type": "stream",
     "text": [
      "/home/tollie/Applications/scikit-image/skimage/transform/_warps.py:105: UserWarning: The default mode, 'constant', will be changed to 'reflect' in skimage 0.15.\n",
      "  warn(\"The default mode, 'constant', will be changed to 'reflect' in \"\n",
      "/home/tollie/Applications/scikit-image/skimage/util/dtype.py:123: UserWarning: Possible precision loss when converting from float64 to uint8\n",
      "  .format(dtypeobj_in, dtypeobj_out))\n"
     ]
    },
    {
     "name": "stdout",
     "output_type": "stream",
     "text": [
      "13/13 classes done, image 512\r"
     ]
    }
   ],
   "source": [
    "assert output_dataset_path != ''\n",
    "\n",
    "shutil.rmtree(output_dataset_path, ignore_errors=True)\n",
    "target_shape = (width, height)\n",
    "\n",
    "image_name_template = '{}_{}.png'\n",
    "print_str = '{}/{} classes done, image {}    '\n",
    "\n",
    "# Create the dataset directory.\n",
    "if not os.path.exists(output_dataset_path):\n",
    "    os.makedirs(output_dataset_path)\n",
    "    \n",
    "all_class_folders = os.listdir(video_folders_path)\n",
    "amount_classes = len(all_class_folders)\n",
    "\n",
    "for class_iteration, class_folder in enumerate(all_class_folders):\n",
    "    \n",
    "    counter = 0\n",
    "    \n",
    "    output_class_folder = os.path.join(output_dataset_path, class_folder)\n",
    "    \n",
    "    # Create the folder for each class in the dataset.\n",
    "    if not os.path.exists(output_class_folder):\n",
    "        os.makedirs(output_class_folder)\n",
    "        \n",
    "    class_video_folders = os.path.join(video_folders_path, class_folder)\n",
    "    for video in os.listdir(class_video_folders):\n",
    "        \n",
    "        video_path = os.path.join(class_video_folders, video)\n",
    "        \n",
    "        video_generator = skvideo.io.vreader(video_path)\n",
    "        \n",
    "        for frame in video_generator:\n",
    "            \n",
    "            resized_frame = resize(frame, target_shape, anti_aliasing=True)\n",
    "            \n",
    "            image_name = image_name_template.format(class_folder, counter)\n",
    "            image_path = os.path.join(output_class_folder, image_name)\n",
    "            \n",
    "            imsave(image_path, resized_frame)\n",
    "            \n",
    "            counter += 1\n",
    "            \n",
    "            print(print_str.format((class_iteration + 1), \n",
    "                                   amount_classes, \n",
    "                                   counter), end='\\r')\n",
    "            "
   ]
  },
  {
   "cell_type": "code",
   "execution_count": null,
   "metadata": {
    "collapsed": true
   },
   "outputs": [],
   "source": []
  }
 ],
 "metadata": {
  "kernelspec": {
   "display_name": "Python 3",
   "language": "python",
   "name": "python3"
  },
  "language_info": {
   "codemirror_mode": {
    "name": "ipython",
    "version": 3
   },
   "file_extension": ".py",
   "mimetype": "text/x-python",
   "name": "python",
   "nbconvert_exporter": "python",
   "pygments_lexer": "ipython3",
   "version": "3.5.2"
  }
 },
 "nbformat": 4,
 "nbformat_minor": 2
}
